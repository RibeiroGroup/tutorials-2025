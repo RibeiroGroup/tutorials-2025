{
 "cells": [
  {
   "cell_type": "markdown",
   "id": "5a5bff3c-e587-4353-879e-5cf760e8b72d",
   "metadata": {},
   "source": [
    "# 0. Introduction #\n",
    "\n",
    "This notebook aim to give step-by-step construction of the simplest model in strong light-matter interaction: the Jaynes-Cummings model and Tavis-Cumming model. These models describe the interaction between:\n",
    "\n",
    "- Matter: represent by two-level harmonic oscillator. \n",
    "- Light: also is a two-level harmonic oscillator.\n",
    " \n",
    "You will need numpy and matplotlib for this project."
   ]
  },
  {
   "cell_type": "code",
   "execution_count": 2,
   "id": "00270b20-1039-4d26-b3f8-0d79f46d4b2c",
   "metadata": {},
   "outputs": [],
   "source": [
    "import numpy as np\n",
    "import sympy as sm\n",
    "import matplotlib.pyplot as plt\n",
    "\n",
    "import scipy.constants as CONST"
   ]
  },
  {
   "cell_type": "markdown",
   "id": "8e1fd0be-f523-4d6a-a8ed-031c42a602e3",
   "metadata": {},
   "source": [
    "# 1. Second quantization\n",
    "In second quantization (2Q) formalism, a harmonic oscillator is described by [creation and annihilation operators](https://en.wikipedia.org/wiki/Creation_and_annihilation_operators) i.e. $\\hat{a}$ and $\\hat{a}^\\dagger$ respectively:\n",
    "\\begin{align*}\n",
    "    H = \\hbar \\omega \\hat{a}^\\dagger \\hat{a}\n",
    "\\end{align*}\n",
    "\n",
    "Where $\\hbar$ and $\\omega$ are the reduced Planck constant and frequency of the harmonic oscillator, respectively. Given $|n\\rangle$ is the state of the harmonic oscillator with quantum number $n$, the effect of operators $\\hat{a}, \\hat{a}^\\dagger$ on it will be:\n",
    "\\begin{align*}\n",
    "    \\hat{a} |n\\rangle &= \\begin{cases}\n",
    "        \\sqrt{n} |n-1\\rangle, \\qquad n \\neq 0 \\\\\n",
    "        0, \\qquad\\qquad\\qquad n = 0 \\\\\n",
    "    \\end{cases}\n",
    "    \\\\\n",
    "    \\hat{a}^\\dagger |n\\rangle &= \\begin{cases}\n",
    "        \\sqrt{n+1} |n+1\\rangle, \\qquad n < N \\\\\n",
    "        0, \\qquad\\qquad\\qquad\\qquad n = N \\\\\n",
    "    \\end{cases}\n",
    "\\end{align*}\n",
    "\n",
    "where $N$ is the upper limit of quantum number $n$.\n",
    "\n",
    "\n",
    "Consider the two level system with state $|0\\rangle$ and $|1\\rangle$ (N=1 in this case) represented as follows:\n",
    "\\begin{align*}\n",
    "    |0\\rangle = \\begin{bmatrix} 1 \\\\ 0 \\end{bmatrix} ;\\; \n",
    "    |1\\rangle = \\begin{bmatrix} 0 \\\\ 1 \\end{bmatrix}\n",
    "\\end{align*}\n",
    "How do you construct the matrix represent operator $\\hat{a}, \\hat{a}^\\dagger$? Demonstrate your answer by perform `matmul` with `ket0` and `ket1` that are states $|0\\rangle$ and $|1\\rangle$."
   ]
  },
  {
   "cell_type": "code",
   "execution_count": 3,
   "id": "dea75fb5-341d-42a7-a950-5f27b51295be",
   "metadata": {},
   "outputs": [
    {
     "name": "stdout",
     "output_type": "stream",
     "text": [
      "a  . |0> =  [0 0]\n",
      "a  . |1> =  [1 0]\n",
      "aT . |0> =  [0 1]\n",
      "aT . |1> =  [0 0]\n"
     ]
    }
   ],
   "source": [
    "ket0 = np.array([1,0])\n",
    "ket1 = np.array([0,1])\n",
    "\n",
    "### Type your code here ###\n",
    "\n",
    "## Delete from this line\n",
    "a = np.array([[0,1],[0,0]])\n",
    "aT = np.array([[0,0],[1,0]])\n",
    "\n",
    "print('a  . |0> = ', np.matmul(a,ket0))\n",
    "print('a  . |1> = ', np.matmul(a,ket1))\n",
    "\n",
    "print('aT . |0> = ', np.matmul(aT,ket0))\n",
    "print('aT . |1> = ', np.matmul(aT,ket1))\n",
    "## To this line"
   ]
  },
  {
   "cell_type": "markdown",
   "id": "71d4cd24-ba76-443a-a511-ac5282e35e4a",
   "metadata": {},
   "source": [
    "# 2. Kronecker product\n",
    "Let's say that we have two system A and B with their separate Hilbert space. To describe the system that consists of A and B coupled together, the combined Hilbert space can be obtained by using [Kronecker product](https://en.wikipedia.org/wiki/Kronecker_product) (see wikipedia page for the formula). That is, if $|n\\rangle_A$, $|m\\rangle_B$ are state ket of A and B, the state ket of the coupling system will be:\n",
    "\\begin{align*}\n",
    "    |nm\\rangle = |n\\rangle_A \\otimes m\\rangle_B\n",
    "\\end{align*}\n",
    "\n",
    "The operator in a coupled system for A and B subsystem, i.e. $\\hat{a}_A, \\hat{a}_B$, can also be obtained by:\n",
    "\\begin{align*}\n",
    "    \\hat{a}_A &= \\hat{a} \\otimes \\hat{I}\n",
    "    \\\\\n",
    "    \\hat{a}_B &= \\hat{I} \\otimes \\hat{a} \n",
    "\\end{align*}\n",
    "where $\\hat{I}$ is the identity operator.\n",
    "\n",
    "Using the two system model as before, construct and print out the four states $|00\\rangle, |10\\rangle, |01\\rangle, |11\\rangle$ and store in variable `ket00, ket10, ket01, ket11`. [Hint](https://numpy.org/doc/2.1/reference/generated/numpy.kron.html)"
   ]
  },
  {
   "cell_type": "code",
   "execution_count": 4,
   "id": "d4035ba9-ef22-437b-ac0b-657b757291de",
   "metadata": {},
   "outputs": [
    {
     "name": "stdout",
     "output_type": "stream",
     "text": [
      "|00> =  [1 0 0 0]\n",
      "|10> =  [0 0 1 0]\n",
      "|01> =  [0 1 0 0]\n",
      "|11> =  [0 0 0 1]\n"
     ]
    }
   ],
   "source": [
    "ket0_A = np.array([1,0])\n",
    "ket1_A = np.array([0,1])\n",
    "ket0_B = np.array([1,0])\n",
    "ket1_B = np.array([0,1])\n",
    "\n",
    "### Type your code here ###\n",
    "\n",
    "ket00 = np.kron(ket0_A, ket0_B)\n",
    "ket10 = np.kron(ket1_A, ket0_B)\n",
    "ket01 = np.kron(ket0_A, ket1_B)\n",
    "ket11 = np.kron(ket1_A, ket1_B)\n",
    "\n",
    "### PRINT ###\n",
    "\n",
    "print('|00> = ',ket00)\n",
    "print('|10> = ',ket10)\n",
    "print('|01> = ',ket01)\n",
    "print('|11> = ',ket11)"
   ]
  },
  {
   "cell_type": "markdown",
   "id": "d687d629-6d94-494a-ab69-802079137270",
   "metadata": {},
   "source": [
    "## Next, construct $\\hat{a}_A,\\hat{a}_B, \\hat{a}_A^\\dagger, \\hat{a}_B^\\dagger$. \n",
    "Store the matrix in variable `a_A, a_B, aT_A, aT_B` and run test below to see the effect of these operators on the state kets."
   ]
  },
  {
   "cell_type": "code",
   "execution_count": 5,
   "id": "4e39e621-9217-4eb2-9913-8b38e5e3f847",
   "metadata": {},
   "outputs": [],
   "source": [
    "### Type your code here ###\n",
    "\n",
    "a_A = np.kron(a, np.eye(2))\n",
    "a_B = np.kron(np.eye(2), a)\n",
    "aT_A = np.kron(aT, np.eye(2))\n",
    "aT_B = np.kron(np.eye(2), aT)"
   ]
  },
  {
   "cell_type": "code",
   "execution_count": 6,
   "id": "d38867e0-22b2-4eb3-b062-ce14727c8d04",
   "metadata": {},
   "outputs": [
    {
     "name": "stdout",
     "output_type": "stream",
     "text": [
      "a_A |00> = a_B |00> =  [0. 0. 0. 0.] = [0. 0. 0. 0.]\n",
      "a_A |10> = a_B |01> =  [1. 0. 0. 0.] = [1. 0. 0. 0.]\n",
      "a_A |01> = a_B |10> =  [0. 0. 0. 0.] = [0. 0. 0. 0.]\n",
      "a_A |11> =  [0. 1. 0. 0.]\n",
      "a_B |11> =  [0. 0. 1. 0.]\n",
      "---------------------------------------------------\n",
      "aT_A |11> = aT_B |11> =  [0. 0. 0. 0.] = [0. 0. 0. 0.]\n",
      "aT_A |10> = aT_B |01> =  [0. 0. 0. 0.] = [0. 0. 0. 0.]\n",
      "aT_A |01> = aT_B |10> =  [0. 0. 0. 1.] = [0. 0. 0. 1.]\n",
      "aT_A |00> =  [0. 0. 1. 0.]\n",
      "aT_B |00> =  [0. 1. 0. 0.]\n",
      "---------------------------------------------------\n",
      "aT_A aT_B|00> =  [0. 0. 0. 1.]\n",
      "a_A a_B |11> =  [1. 0. 0. 0.]\n"
     ]
    }
   ],
   "source": [
    "### Sanity Test ###\n",
    "\n",
    "print('a_A |00> = a_B |00> = ', np.matmul(a_A, ket00), '=', np.matmul(a_B, ket00))\n",
    "print('a_A |10> = a_B |01> = ', np.matmul(a_A, ket10), '=', np.matmul(a_B, ket01))\n",
    "print('a_A |01> = a_B |10> = ', np.matmul(a_A, ket01), '=', np.matmul(a_B, ket10))\n",
    "print('a_A |11> = ', np.matmul(a_A, ket11))\n",
    "print('a_B |11> = ', np.matmul(a_B, ket11))\n",
    "\n",
    "print('---------------------------------------------------')\n",
    "\n",
    "print('aT_A |11> = aT_B |11> = ', np.matmul(aT_A, ket11), '=', np.matmul(aT_B, ket11))\n",
    "print('aT_A |10> = aT_B |01> = ', np.matmul(aT_A, ket10), '=', np.matmul(aT_B, ket01))\n",
    "print('aT_A |01> = aT_B |10> = ', np.matmul(aT_A, ket01), '=', np.matmul(aT_B, ket10))\n",
    "print('aT_A |00> = ', np.matmul(aT_A, ket00))\n",
    "print('aT_B |00> = ', np.matmul(aT_B, ket00))\n",
    "\n",
    "print('---------------------------------------------------')\n",
    "print('aT_A aT_B|00> = ', np.matmul(aT_B,np.matmul(aT_A, ket00)))\n",
    "print('a_A a_B |11> = ', np.matmul(a_B,np.matmul(a_A, ket11)))"
   ]
  },
  {
   "cell_type": "markdown",
   "id": "270aa8d6-21aa-4f81-99e6-8e4dad71081c",
   "metadata": {},
   "source": [
    "# 3. Jaynes - Cumming model\n",
    "\n",
    "We finally arrive at to the staple [Jaynes-Cumming model (see Eq. 2 in this paper)](https://pubs.acs.org/doi/10.1021/acs.chemrev.2c00855?ref=PDF) of polariton chemistry. As stated before, this model describe the coupling between the matter and light, both are described as harmonic oscillators. Let the Hamiltonian for the light and matter be (ignoring zero-point vibrational energy):\n",
    "\\begin{align*}\n",
    "    H_L &= \\hbar \\omega_k \\hat{a}_k^\\dagger \\hat{a}_k \n",
    "    \\\\\n",
    "    H_M &= \\hbar \\omega_m \\hat{\\sigma}_m^\\dagger \\hat{\\sigma}_m\n",
    "\\end{align*}\n",
    "\n",
    "where $\\hat{\\sigma}_m, \\hat{\\sigma}_m^\\dagger$ are matter exciton creation and annihilation operator, while $\\hat{a}_k, \\hat{a}_k^\\dagger$ are creation and annihiltion of the photon with wavevector $\\boldsymbol{k}$ (so that its frequency will be $c|\\boldsymbol{k}|$ with speed of light $c$).\n",
    "\n",
    "With rotating wave approximation and ignoring the spatial dependent of the field (mean field approximation), the interaction part of the Hamiltonian will be:\n",
    "\\begin{align*}\n",
    "    H_{int} = g (\\hat{a}_k \\sigma^\\dagger_m + \\hat{a}_k^\\dagger \\sigma_m)\n",
    "\\end{align*}\n",
    "\n",
    "with $g$ is the positive scalar expressed the magnitude of the light matter coupling.\n",
    "\n",
    "Still under the two-level assumption for light and matter, construct the total Hamiltonian $H_{JC} = H_M + H_L + H_{LM}$ below. You may use `sympy` symbols to create a matrix contain symbols, instead of number."
   ]
  },
  {
   "cell_type": "code",
   "execution_count": 7,
   "id": "3737408d-b47f-45e0-99a6-1604e1e2a3f3",
   "metadata": {},
   "outputs": [
    {
     "data": {
      "text/latex": [
       "$\\displaystyle \\left[\\begin{matrix}0 & 0 & 0 & 0\\\\0 & 1.0 \\hbar \\omega_{m} & 1.0 g & 0\\\\0 & 1.0 g & 1.0 \\hbar \\omega_{k} & 0\\\\0 & 0 & 0 & 1.0 \\hbar \\omega_{k} + 1.0 \\hbar \\omega_{m}\\end{matrix}\\right]$"
      ],
      "text/plain": [
       "Matrix([\n",
       "[0,                0,                0,                                   0],\n",
       "[0, 1.0*hbar*omega_m,            1.0*g,                                   0],\n",
       "[0,            1.0*g, 1.0*hbar*omega_k,                                   0],\n",
       "[0,                0,                0, 1.0*hbar*omega_k + 1.0*hbar*omega_m]])"
      ]
     },
     "execution_count": 7,
     "metadata": {},
     "output_type": "execute_result"
    }
   ],
   "source": [
    "g = sm.symbols('g')\n",
    "hbar = sm.symbols('hbar')\n",
    "wk = sm.symbols('omega_k')\n",
    "wm = sm.symbols('omega_m')\n",
    "\n",
    "### Type your code here - You may have some matrices to defined ###\n",
    "a = np.kron(np.array([[0,1],[0,0]]), np.eye(2))\n",
    "aT = np.kron(np.array([[0,0],[1,0]]), np.eye(2))\n",
    "\n",
    "s = np.kron(np.eye(2), np.array([[0,1],[0,0]]))\n",
    "sT = np.kron(np.eye(2), np.array([[0,0],[1,0]]))\n",
    "\n",
    "I = np.kron(np.eye(2), np.eye(2))\n",
    "\n",
    "def jaynes_cumming(wm, wk, g, hbar = 1):\n",
    "    ### Type your code here, defined H_M, H_L, and H_LM ###\n",
    "\n",
    "    H_LM = g * (np.matmul(a,sT) + np.matmul(aT,s))\n",
    "    H_L = hbar * wk * (np.matmul(aT, a))\n",
    "    H_M = hbar * wm * (np.matmul(sT, s))\n",
    "\n",
    "    return H_M + H_L + H_LM\n",
    "\n",
    "### Visualizing the symbolic matrix\n",
    "sm.Matrix(jaynes_cumming(wm,wk,g,hbar))"
   ]
  },
  {
   "cell_type": "markdown",
   "id": "1e0ad662-fd57-447b-bcbf-ffbd31484e3a",
   "metadata": {},
   "source": [
    "### Rabi splitting\n",
    "\n",
    "The uncoupled system (e.g. $g = 0$) has four energies level. However, under coupling $g > 0$, **two levels coupled with each other**, while the other two do not. Can you point out which levels are coupled from the Hamiltonian?\n",
    "\n",
    "Assume that the system is in resonance $\\omega_k = \\omega_m$, the two aforementioned energy level would be degenerate. Under strong coupling, the degeneracy is lifted and they split apart. The lower energy would be called Lower Polariton (LP), while the upper one is called Upper Polariton (UP). The energy gap between this two states is known as Rabi splitting, which is observed in experiment by spectroscopy.\n",
    "\n",
    "Let $\\omega_m = \\omega_k = 1000 cm^{-1}$ and $g = 20 cm^{-1}$. Compute the energy level of the system and the Rabi splitting. You may use the function to convert frequency from $cm^{-1}$ to atomic unit. "
   ]
  },
  {
   "cell_type": "code",
   "execution_count": 8,
   "id": "2b068d81-5601-4e6d-9122-2267af2cbc9a",
   "metadata": {},
   "outputs": [
    {
     "name": "stdout",
     "output_type": "stream",
     "text": [
      "Energy levels:  [   0.  980. 1020. 2000.]\n",
      "Rabi splitting:  40.000000000000114\n"
     ]
    }
   ],
   "source": [
    "def convert_wn(wn):\n",
    "    Eh,_,_ = CONST.physical_constants['Hartree energy']\n",
    "    return (CONST.c * 10**2) * wn * CONST.h / Eh\n",
    "\n",
    "def to_cm(wn):\n",
    "    Eh,_,_ = CONST.physical_constants['Hartree energy']\n",
    "    return wn / ((CONST.c * 10**2) * CONST.h / Eh)\n",
    "\n",
    "### Type your code here ###\n",
    "\n",
    "H = jaynes_cumming(\n",
    "    wm = convert_wn(1000),wk = convert_wn(1000), g = convert_wn(20)\n",
    ")\n",
    "\n",
    "eigval, _ = np.linalg.eig(H)\n",
    "eigval = np.sort(to_cm(eigval))\n",
    "print('Energy levels: ', eigval)\n",
    "print('Rabi splitting: ', eigval[2] -  eigval[1])"
   ]
  },
  {
   "cell_type": "markdown",
   "id": "96f11788-7690-440f-87da-ddf9ba62262a",
   "metadata": {},
   "source": [
    "### The Rabi splitting also depend on the detuning $\\delta = |\\omega_k - \\omega_m|$. Plot the gap for different detuning value."
   ]
  },
  {
   "cell_type": "code",
   "execution_count": 17,
   "id": "036d60b3-da88-456a-9cd5-2acef67bc2ee",
   "metadata": {},
   "outputs": [
    {
     "data": {
      "text/plain": [
       "<matplotlib.legend.Legend at 0x150115850>"
      ]
     },
     "execution_count": 17,
     "metadata": {},
     "output_type": "execute_result"
    },
    {
     "data": {
      "image/png": "[encoded data removed]",
      "text/plain": [
       "<Figure size 640x480 with 1 Axes>"
      ]
     },
     "metadata": {},
     "output_type": "display_data"
    }
   ],
   "source": [
    "### Type your code below ###\n",
    "\n",
    "up = []\n",
    "lp = []\n",
    "delta_list = np.arange(-180,200,20)\n",
    "\n",
    "for delta in delta_list:\n",
    "    H = jaynes_cumming(\n",
    "        wm = convert_wn(1000),wk = convert_wn(1000 + delta), g = convert_wn(20)\n",
    "    )\n",
    "    \n",
    "    eigval, _ = np.linalg.eig(H)\n",
    "    eigval = np.sort(to_cm(eigval))\n",
    "\n",
    "    lp.append(eigval[1])\n",
    "    up.append(eigval[2])\n",
    "\n",
    "fig,ax = plt.subplots()\n",
    "ax.plot(delta_list, up, label = 'LP')\n",
    "ax.plot(delta_list, lp, label = 'UP')\n",
    "\n",
    "ax.set_xlabel(r'Detuning $\\delta (cm^{-1})$')\n",
    "ax.set_ylabel(r'Frequency')\n",
    "ax.legend()"
   ]
  },
  {
   "cell_type": "markdown",
   "id": "79d2adc9-8e87-4721-8b05-66ec5009b083",
   "metadata": {},
   "source": [
    "# 4. Tavis - Cumming model\n",
    "\n",
    "The Tavis-Cumming model extended the Jaynes-Cumming model with the inclusion of more than one molecules. The Tavis-Cumming Hamiltonian reads:\n",
    "\\begin{align*}\n",
    "    H_{TC} = \\sum_{m=1}^{N} \\hbar \\omega_m \\hat{\\sigma}_m^\\dagger \\hat{\\sigma}_m\n",
    "    + \\hbar \\omega_m \\hat{a}_k^\\dagger \\hat{a}_k \n",
    "    + \\sum_{m=1}^N g (a_k \\hat{\\sigma}_m^\\dagger + a_k^\\dagger \\hat{\\sigma}_m)\n",
    "\\end{align*}\n",
    "\n",
    "You may implement this model by simply repeating the procedure for the Jaynes-Cumming model. However, the Kronecker product may inflated the Hamiltonian matrix with redundant rows/columns. Fortunately, the Hamiltonian matrix for TC can be inferred from examining the pattern in the JC matrix above.  \n",
    "\n",
    "Write the Hamiltonian matrix for TC model with $N = 3$ and all molecules has the same frequency $\\omega_m$ in the markdown cell below.  \n",
    "\n",
    "Write a Python function to construct the Hamiltonian matrix for $\\omega_m = \\omega_k = 1000 cm^{-1}$ and $g = 20 cm^{-1}$."
   ]
  },
  {
   "cell_type": "markdown",
   "id": "5a703718-4a95-4ae2-a924-7391f77968fe",
   "metadata": {},
   "source": [
    "### Write your Hamiltonian matrix here\n",
    "\\begin{align*}\n",
    "    H_{TC} = \\begin{bmatrix}\n",
    "        \\hbar\\omega_k & g & g & g\n",
    "        \\\\\n",
    "        g & \\hbar \\omega_m & 0 & 0\n",
    "        \\\\\n",
    "        g & 0 & \\hbar \\omega_m & 0\n",
    "        \\\\\n",
    "        g & 0 & 0 & \\hbar \\omega_m\n",
    "    \\end{bmatrix}\n",
    "\\end{align*}"
   ]
  },
  {
   "cell_type": "code",
   "execution_count": null,
   "id": "48ab8149-786d-4daa-9e80-e6df4671e405",
   "metadata": {},
   "outputs": [],
   "source": []
  },
  {
   "cell_type": "markdown",
   "id": "53d1f5aa-950b-4c52-964b-39937e3b7e70",
   "metadata": {},
   "source": [
    "# 5. Further exploration\n",
    "You have reach the end of the tutorial, here is some of the potential extended project that you can explore:\n",
    "- Implement the Hamiltonian without the rotating wave approximation and including spatial dependent\n",
    "- Implement time-dependent dynamics of the system\n",
    "- Implement multimode cavity"
   ]
  },
  {
   "cell_type": "code",
   "execution_count": null,
   "id": "8c583396-505b-42de-9169-c33bcdc17612",
   "metadata": {},
   "outputs": [],
   "source": []
  }
 ],
 "metadata": {
  "kernelspec": {
   "display_name": "Python 3 (ipykernel)",
   "language": "python",
   "name": "python3"
  },
  "language_info": {
   "codemirror_mode": {
    "name": "ipython",
    "version": 3
   },
   "file_extension": ".py",
   "mimetype": "text/x-python",
   "name": "python",
   "nbconvert_exporter": "python",
   "pygments_lexer": "ipython3",
   "version": "3.12.3"
  }
 },
 "nbformat": 4,
 "nbformat_minor": 5
}
